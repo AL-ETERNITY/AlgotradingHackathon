{
 "cells": [
  {
   "cell_type": "code",
   "execution_count": 1,
   "metadata": {},
   "outputs": [],
   "source": [
    "import pandas as pd\n",
    "import talib as ta\n",
    "from backtesting import Backtest, Strategy\n",
    "from backtesting.lib import crossover"
   ]
  },
  {
   "cell_type": "code",
   "execution_count": 2,
   "metadata": {},
   "outputs": [],
   "source": [
    "# Load the 30-minute BTC/USDT data\n",
    "data_30m = pd.read_csv('btcusdt_30m.csv', encoding='UTF-8')\n",
    "\n",
    "# Ensure the columns are renamed correctly to match what the Backtesting library expects\n",
    "data_30m.rename(columns={'open': 'Open', 'high': 'High', 'low': 'Low', 'close': 'Close', 'volume': 'Volume'}, inplace=True)\n",
    "\n",
    "# Parse datetime and set it as the index\n",
    "data_30m['datetime'] = pd.to_datetime(data_30m['datetime'])\n",
    "data_30m.set_index('datetime', inplace=True)\n"
   ]
  },
  {
   "cell_type": "code",
   "execution_count": 3,
   "metadata": {},
   "outputs": [],
   "source": [
    "# Define the strategy with parameters for optimization\n",
    "class EMASMACrossoverMACDStrategy(Strategy):\n",
    "    # Define the parameters for EMA and SMA optimization\n",
    "    ema_period = 45\n",
    "    sma_period = 10\n",
    "    macd_fastperiod = 12\n",
    "    macd_slowperiod = 26\n",
    "    macd_signalperiod = 9\n",
    "\n",
    "    def init(self):\n",
    "        # Calculate EMA and SMA\n",
    "        self.ema = self.I(ta.EMA, self.data.Close, timeperiod=self.ema_period)\n",
    "        self.sma = self.I(ta.SMA, self.data.Close, timeperiod=self.sma_period)\n",
    "\n",
    "        # Calculate MACD\n",
    "        macd, signal, _ = ta.MACD(self.data.Close, fastperiod=self.macd_fastperiod, slowperiod=self.macd_slowperiod, signalperiod=self.macd_signalperiod)\n",
    "        self.macd = self.I(lambda: macd)\n",
    "        self.signal = self.I(lambda: signal)\n",
    "\n",
    "    def next(self):\n",
    "        # Buy condition: EMA crosses above SMA and MACD is above signal\n",
    "        if crossover(self.ema, self.sma) and self.macd[-1] > self.signal[-1]:\n",
    "            self.buy()\n",
    "\n",
    "        # Sell condition: EMA crosses below SMA and MACD is below signal\n",
    "        elif crossover(self.sma, self.ema) and self.macd[-1] < self.signal[-1]:\n",
    "            self.sell()\n"
   ]
  },
  {
   "cell_type": "code",
   "execution_count": 4,
   "metadata": {},
   "outputs": [
    {
     "name": "stderr",
     "output_type": "stream",
     "text": [
      "C:\\Users\\Siddhant\\AppData\\Local\\Temp\\ipykernel_32212\\3911277650.py:2: UserWarning: Some prices are larger than initial cash value. Note that fractional trading is not supported. If you want to trade Bitcoin, increase initial cash, or trade μBTC or satoshis instead (GH-134).\n",
      "  bt = Backtest(data_30m, EMASMACrossoverMACDStrategy, cash=10000, commission=.002, exclusive_orders=True)\n"
     ]
    },
    {
     "name": "stdout",
     "output_type": "stream",
     "text": [
      "Start                     2018-01-01 05:30:00\n",
      "End                       2022-01-12 05:30:00\n",
      "Duration                   1472 days 00:00:00\n",
      "Exposure Time [%]                   86.364863\n",
      "Equity Final [$]                   56046.1843\n",
      "Equity Peak [$]                   60704.49652\n",
      "Return [%]                         460.461843\n",
      "Buy & Hold Return [%]              216.860216\n",
      "Return (Ann.) [%]                   53.279803\n",
      "Volatility (Ann.) [%]               90.926121\n",
      "Sharpe Ratio                         0.585968\n",
      "Sortino Ratio                        1.525513\n",
      "Calmar Ratio                         0.886472\n",
      "Max. Drawdown [%]                  -60.103206\n",
      "Avg. Drawdown [%]                   -2.676486\n",
      "Max. Drawdown Duration      764 days 10:00:00\n",
      "Avg. Drawdown Duration        7 days 06:25:00\n",
      "# Trades                                  101\n",
      "Win Rate [%]                        55.445545\n",
      "Best Trade [%]                      42.809387\n",
      "Worst Trade [%]                    -33.897439\n",
      "Avg. Trade [%]                       2.218365\n",
      "Max. Trade Duration          76 days 17:00:00\n",
      "Avg. Trade Duration          12 days 13:50:00\n",
      "Profit Factor                        2.069427\n",
      "Expectancy [%]                       2.982443\n",
      "SQN                                  1.749805\n",
      "_strategy                 EMASMACrossoverM...\n",
      "_equity_curve                             ...\n",
      "_trades                        Size  Entry...\n",
      "dtype: object\n"
     ]
    }
   ],
   "source": [
    "# Run the backtest\n",
    "bt = Backtest(data_30m, EMASMACrossoverMACDStrategy, cash=10000, commission=.002, exclusive_orders=True)\n",
    "stats = bt.run()\n",
    "\n",
    "# Print the results\n",
    "print(stats)"
   ]
  }
 ],
 "metadata": {
  "kernelspec": {
   "display_name": "Python 3",
   "language": "python",
   "name": "python3"
  },
  "language_info": {
   "codemirror_mode": {
    "name": "ipython",
    "version": 3
   },
   "file_extension": ".py",
   "mimetype": "text/x-python",
   "name": "python",
   "nbconvert_exporter": "python",
   "pygments_lexer": "ipython3",
   "version": "3.11.4"
  }
 },
 "nbformat": 4,
 "nbformat_minor": 2
}
